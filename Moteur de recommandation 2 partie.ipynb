{
 "cells": [
  {
   "cell_type": "markdown",
   "metadata": {},
   "source": [
    "# Moteur de recommendations de films - Partie 2 :\n",
    "## 1-METHODE COSINE POUR LES KEYWORDS \n",
    "## 2-DISTANCES :RECOMANDATIONS\n",
    "## 3-KNN\n",
    "## 4-K-MEANS\n",
    "## 5- CHA\n",
    "## 6- API FLASK \n",
    "\n",
    "### INTRODUCTION \n",
    "### On a étudié dans la premiére partie le dataset de film. j'ai commencé par la préparation de données.maintenant on va traiter  les différentes manières de faire une classification de nos données, affin de recommander à un utilisateur 5 films similaires au film demandé. et choisir celle qui nous semble la plus pertinente."
   ]
  },
  {
   "cell_type": "code",
   "execution_count": 160,
   "metadata": {},
   "outputs": [],
   "source": [
    "# IMPORTR LES DONNÉES\n",
    "import pandas as pd\n",
    "import numpy as np\n",
    "\n",
    "data_feautures1 = pd.read_csv('data_feautures1.csv')\n",
    "data=pd.read_csv('data.csv')\n",
    "data_feautures1.drop(['Unnamed: 0'],axis=1,inplace=True)"
   ]
  },
  {
   "cell_type": "markdown",
   "metadata": {},
   "source": [
    "## 1- SCORE DE SIMILARITÉ baser sur cosine et key words (methode cosine) : "
   ]
  },
  {
   "cell_type": "code",
   "execution_count": 85,
   "metadata": {},
   "outputs": [
    {
     "data": {
      "text/html": [
       "<div>\n",
       "<style scoped>\n",
       "    .dataframe tbody tr th:only-of-type {\n",
       "        vertical-align: middle;\n",
       "    }\n",
       "\n",
       "    .dataframe tbody tr th {\n",
       "        vertical-align: top;\n",
       "    }\n",
       "\n",
       "    .dataframe thead th {\n",
       "        text-align: right;\n",
       "    }\n",
       "</style>\n",
       "<table border=\"1\" class=\"dataframe\">\n",
       "  <thead>\n",
       "    <tr style=\"text-align: right;\">\n",
       "      <th></th>\n",
       "      <th>movie_title</th>\n",
       "    </tr>\n",
       "  </thead>\n",
       "  <tbody>\n",
       "    <tr>\n",
       "      <th>29</th>\n",
       "      <td>X-Men: The Last Stand</td>\n",
       "    </tr>\n",
       "    <tr>\n",
       "      <th>486</th>\n",
       "      <td>X-Men</td>\n",
       "    </tr>\n",
       "    <tr>\n",
       "      <th>56</th>\n",
       "      <td>X-Men: Apocalypse</td>\n",
       "    </tr>\n",
       "    <tr>\n",
       "      <th>89</th>\n",
       "      <td>X-Men: First Class</td>\n",
       "    </tr>\n",
       "    <tr>\n",
       "      <th>4073</th>\n",
       "      <td>The Spectacular Now</td>\n",
       "    </tr>\n",
       "  </tbody>\n",
       "</table>\n",
       "</div>"
      ],
      "text/plain": [
       "                 movie_title\n",
       "29    X-Men: The Last Stand \n",
       "486                   X-Men \n",
       "56        X-Men: Apocalypse \n",
       "89       X-Men: First Class \n",
       "4073    The Spectacular Now "
      ]
     },
     "execution_count": 85,
     "metadata": {},
     "output_type": "execute_result"
    }
   ],
   "source": [
    "#SCORE DE SIMILARITÉ baser sur cosine et key words \n",
    "data['plot_keywords']=data['plot_keywords'].str.replace('|',',')\n",
    "data[['plot_keywords']] = data[['plot_keywords']].fillna('')\n",
    "#Dans sa forme actuelle, il n'est pas possible de calculer la similarité entre deux aperçus. \n",
    "#Pour ce faire, on doit calculer les vecteurs de mots de chaque aperçu ou document,\n",
    "from sklearn.feature_extraction.text import TfidfVectorizer\n",
    "tfidf = TfidfVectorizer(stop_words='english')\n",
    "\n",
    "#Construct the required TF-IDF matrix by fitting and transforming the data\n",
    "tfidf_matrix = tfidf.fit_transform(data['plot_keywords'])\n",
    "\n",
    "#Output the shape of tfidf_matrix\n",
    "tfidf_matrix.shape\n",
    "\n",
    "# Import linear_kernel\n",
    "from sklearn.metrics.pairwise import linear_kernel\n",
    "\n",
    "# Compute the cosine similarity matrix\n",
    "cosine_sim = linear_kernel(tfidf_matrix, tfidf_matrix)\n",
    "\n",
    "#Construct a reverse map of indices and movie titles\n",
    "indices = pd.Series(data.index, index=data.index).drop_duplicates()\n",
    "indices = pd.Series(data['plot_keywords'].index, index=data['plot_keywords'].index).drop_duplicates()\n",
    "# CETTE fonction sort les plus similairesfilm par rapport a leur popularités et similarité \n",
    "\n",
    "\n",
    "def get_recommendations_10films_keywords(k, cosine_sim=cosine_sim):\n",
    "    # Get the index of the movie that matches the title\n",
    "    idx = indices[k]\n",
    "    # Get the pairwsie similarity scores of all movies with that movie\n",
    "    sim_scores = list(enumerate(cosine_sim[idx]))\n",
    "\n",
    "    # Sort the movies based on the similarity scores\n",
    "    sim_scores = sorted(sim_scores, key=lambda x: x[1], reverse=True)\n",
    "\n",
    "    # Get the scores of the 5 most similar movies\n",
    "    sim_scores = sim_scores[1:6]\n",
    "\n",
    "    # Get the movie indices\n",
    "    movie_indices = [i[0] for i in sim_scores]\n",
    "\n",
    "    # Return the top 10 most similar movies\n",
    "    return data[['movie_title']].iloc[movie_indices]\n",
    "\n",
    "get_recommendations_10films_keywords(192)"
   ]
  },
  {
   "cell_type": "markdown",
   "metadata": {},
   "source": [
    "# 2-ANALYSE (METHODE COSINE) : \n",
    "## 2- 3 AVEC LA METHODE COSINE QUI CALCULE LA SIMILARITÉ ENTRE LES VARIABLES QUALITATIVES, JE VOULAIS L'ITULISER POUR AVOIR UNE PREMIÉRE RECOMMANDATION JUSTE POUR SE PLACER ET AVOIR DES IDÉÉS PARCEQUE ON PEUT PAS RESTER JUSTE ICI IL FAUT VOIR PAR RAPPORT LES AUTRES VARIABLES "
   ]
  },
  {
   "cell_type": "markdown",
   "metadata": {},
   "source": [
    "# 3 - Distances"
   ]
  },
  {
   "cell_type": "markdown",
   "metadata": {},
   "source": [
    "# 3 - 1 Manhattan"
   ]
  },
  {
   "cell_type": "code",
   "execution_count": 92,
   "metadata": {},
   "outputs": [],
   "source": [
    "from sklearn.neighbors import DistanceMetric\n",
    "dist_manhattan = DistanceMetric.get_metric('manhattan')\n",
    "manhattan = dist_manhattan.pairwise(data_feautures1)"
   ]
  },
  {
   "cell_type": "markdown",
   "metadata": {},
   "source": [
    "# 3 - 2 Euclidean"
   ]
  },
  {
   "cell_type": "code",
   "execution_count": 93,
   "metadata": {},
   "outputs": [],
   "source": [
    "from sklearn.neighbors import DistanceMetric\n",
    "dist = DistanceMetric.get_metric('euclidean')\n",
    "euclidian = dist.pairwise(data_feautures1)"
   ]
  },
  {
   "cell_type": "markdown",
   "metadata": {},
   "source": [
    "# 3 - 3 Chebyshev"
   ]
  },
  {
   "cell_type": "code",
   "execution_count": 94,
   "metadata": {},
   "outputs": [],
   "source": [
    "from sklearn.neighbors import DistanceMetric\n",
    "dist = DistanceMetric.get_metric('chebyshev')\n",
    "chebyshev = dist.pairwise(data_feautures1)"
   ]
  },
  {
   "cell_type": "markdown",
   "metadata": {},
   "source": [
    "# 3 - 4 Minkowski"
   ]
  },
  {
   "cell_type": "code",
   "execution_count": 95,
   "metadata": {},
   "outputs": [],
   "source": [
    "from sklearn.neighbors import DistanceMetric\n",
    "dist = DistanceMetric.get_metric('minkowski', p = 10)\n",
    "minkowski = dist.pairwise(data_feautures1)"
   ]
  },
  {
   "cell_type": "markdown",
   "metadata": {},
   "source": [
    "# 3 - 5 Comparaison de distances"
   ]
  },
  {
   "cell_type": "code",
   "execution_count": 96,
   "metadata": {},
   "outputs": [
    {
     "name": "stdout",
     "output_type": "stream",
     "text": [
      "                                                                                   euclidian  \\\n",
      "(Superman Returns ,)                                     Batman v Superman: Dawn of Justice    \n",
      "(Quantum of Solace ,)                            Pirates of the Caribbean: Dead Man's Chest    \n",
      "(Pirates of the Caribbean: Dead Man's Chest ,)                              The Lone Ranger    \n",
      "(The Lone Ranger ,)                              Pirates of the Caribbean: Dead Man's Chest    \n",
      "(Man of Steel ,)                                Pirates of the Caribbean: On Stranger Tides    \n",
      "(The Chronicles of Narnia: Prince Caspian ,)    Pirates of the Caribbean: On Stranger Tides    \n",
      "\n",
      "                                                                                   manhattan  \\\n",
      "(Superman Returns ,)                                     Batman v Superman: Dawn of Justice    \n",
      "(Quantum of Solace ,)                                    Batman v Superman: Dawn of Justice    \n",
      "(Pirates of the Caribbean: Dead Man's Chest ,)  Pirates of the Caribbean: On Stranger Tides    \n",
      "(The Lone Ranger ,)                              Pirates of the Caribbean: Dead Man's Chest    \n",
      "(Man of Steel ,)                                Pirates of the Caribbean: On Stranger Tides    \n",
      "(The Chronicles of Narnia: Prince Caspian ,)    Pirates of the Caribbean: On Stranger Tides    \n",
      "\n",
      "                                                                                  chebyshev  \\\n",
      "(Superman Returns ,)                                    Batman v Superman: Dawn of Justice    \n",
      "(Quantum of Solace ,)                                                     Superman Returns    \n",
      "(Pirates of the Caribbean: Dead Man's Chest ,)                           Quantum of Solace    \n",
      "(The Lone Ranger ,)                             Pirates of the Caribbean: Dead Man's Chest    \n",
      "(Man of Steel ,)                                                           The Lone Ranger    \n",
      "(The Chronicles of Narnia: Prince Caspian ,)                                  Man of Steel    \n",
      "\n",
      "                                                                                   minkowski  \n",
      "(Superman Returns ,)                                     Batman v Superman: Dawn of Justice   \n",
      "(Quantum of Solace ,)                            Pirates of the Caribbean: Dead Man's Chest   \n",
      "(Pirates of the Caribbean: Dead Man's Chest ,)                              The Lone Ranger   \n",
      "(The Lone Ranger ,)                              Pirates of the Caribbean: Dead Man's Chest   \n",
      "(Man of Steel ,)                                                            The Lone Ranger   \n",
      "(The Chronicles of Narnia: Prince Caspian ,)    Pirates of the Caribbean: On Stranger Tides   \n"
     ]
    }
   ],
   "source": [
    "for i in range(0,len(euclidian)):\n",
    "    euclidian[i,i] = 10000\n",
    "    manhattan[i,i] = 10000\n",
    "    chebyshev[i,i] = 10000\n",
    "    minkowski[i,i] = 10000\n",
    "    \n",
    "euclidian = movie_title.values[np.argmin(euclidian, axis = 0)].astype(str)\n",
    "manhattan = movie_title.values[np.argmin(manhattan, axis = 0)].astype(str)\n",
    "chebyshev = movie_title.values[np.argmin(chebyshev, axis = 0)].astype(str)\n",
    "minkowski = movie_title.values[np.argmin(minkowski, axis = 0)].astype(str)\n",
    "\n",
    "values1 = np.concatenate((euclidian, manhattan, chebyshev, minkowski), axis = 1)\n",
    "index1 = movie_title.values\n",
    "columns1 = ['euclidian', 'manhattan', 'chebyshev', 'minkowski']\n",
    "result1 = pd.DataFrame(values1, index = index1, columns = columns1)\n",
    "\n",
    "print(result1[10:16])"
   ]
  },
  {
   "cell_type": "markdown",
   "metadata": {},
   "source": [
    "# 4 LES VERITÉES TERRAINS (EVALUATION) :\n",
    "## Avant de passer aux autres algorithmes je preferes de construire 3 verité terrain(des recommandations exemplaires)pour pouvoir evaluer mes resultats de recommandations pour chaque methodes : KNN , K-mean, CHA.\n",
    "\n",
    "\n",
    "## Model : des films de superheros qu'ils sont proches entre eux \n",
    "#### id 27 Titre : Spider-Man 2\n",
    "#### id 19 Titre : PThe Amazing Spider-Man\n",
    "#### id 10 Titre : Superman Returns\n",
    "#### id 16 Titre : Batman v Superman: Dawn of Justice\n",
    "#### id 28 Titre : Iron Man 3\n",
    "\n",
    "### Model_true1 = [27,19,10,16,28]\n",
    "\n",
    "## Mode2 : des series de films de Harry Potter \n",
    "#### id 177 Titre : Harry Potter and the Prisoner of Azkaban\n",
    "#### id 260 Titre : Harry Potter and the Chamber of Secrets\n",
    "#### id 102 Titre : Harry Potter and the Goblet of Fire \n",
    "#### id 101 Titre : Harry Potter and the Order of the Phoenix\n",
    "#### id 8 Titre : Harry Potter and the Half-Blood Prince \n",
    "\n",
    "### Model_true2 = [177,260,102,101,8]\n",
    "\n",
    "## Mode3 : series de film X_Men\n",
    "#### id 29 Titre : X-Men: The Last Stand\n",
    "#### id 192 Titre : X-Men 2 \n",
    "#### id 110 Titre : X-Men Origins: Wolverine\n",
    "#### id 218 Titre : The Wolverine\n",
    "#### id 486 Titre : X-Men\n",
    "\n",
    "### Model_true3 = [29,192,110,218,486]\n"
   ]
  },
  {
   "cell_type": "markdown",
   "metadata": {},
   "source": [
    "#  5-  RECOMMANDATION PAR K NearestNeighbors (KNN)"
   ]
  },
  {
   "cell_type": "code",
   "execution_count": 161,
   "metadata": {},
   "outputs": [],
   "source": [
    "from sklearn.neighbors import NearestNeighbors\n",
    "nbrs = NearestNeighbors(n_neighbors=6, algorithm='ball_tree').fit(data_feautures1)\n",
    "distances1, indices1 = nbrs.kneighbors(data_feautures1)\n"
   ]
  },
  {
   "cell_type": "code",
   "execution_count": 162,
   "metadata": {},
   "outputs": [],
   "source": [
    "def print_similar_films_KNnN(query=None,id=None):\n",
    "    if id:\n",
    "        for id in indices1[id][1:]:\n",
    "            print(data.ix[id]['movie_title'])\n",
    "    if query:\n",
    "        found_id = get_index_from_name(query)\n",
    "        for id in indices1[found_id][1:]:\n",
    "            print(data.ix[id]['movie_title'])"
   ]
  },
  {
   "cell_type": "markdown",
   "metadata": {},
   "source": [
    "## 5-1 Recommandation : "
   ]
  },
  {
   "cell_type": "code",
   "execution_count": 165,
   "metadata": {},
   "outputs": [
    {
     "name": "stdout",
     "output_type": "stream",
     "text": [
      "X-Men: The Last Stand \n",
      "X-Men Origins: Wolverine \n",
      "The Wolverine \n",
      "Mortal Kombat: Annihilation \n",
      "The Omega Code \n"
     ]
    },
    {
     "name": "stderr",
     "output_type": "stream",
     "text": [
      "/anaconda3/lib/python3.6/site-packages/ipykernel_launcher.py:4: DeprecationWarning: \n",
      ".ix is deprecated. Please use\n",
      ".loc for label based indexing or\n",
      ".iloc for positional indexing\n",
      "\n",
      "See the documentation here:\n",
      "http://pandas.pydata.org/pandas-docs/stable/indexing.html#ix-indexer-is-deprecated\n",
      "  after removing the cwd from sys.path.\n"
     ]
    }
   ],
   "source": [
    "#je choisi un ID aleatoire\n",
    "print_similar_films_KNnN(id=192)"
   ]
  },
  {
   "cell_type": "code",
   "execution_count": 175,
   "metadata": {},
   "outputs": [
    {
     "name": "stdout",
     "output_type": "stream",
     "text": [
      "20.0 %\n"
     ]
    }
   ],
   "source": [
    "#je vais evaluer notre algorithme par rapport aux vérité terrain 1,2,3\n",
    "\n",
    "Model_true1 = [27,19,10,16,28]\n",
    "Model_true2 = [177,260,102,101,8]\n",
    "Model_true3 = [29,192,110,218,486]\n",
    "\n",
    "a=0\n",
    "b=0\n",
    "c=0\n",
    "for i in indices1[192][1:]:\n",
    "    for j in Model_true1:\n",
    "        if j==i:\n",
    "            a=a+1\n",
    "    for k in Model_true2:\n",
    "        if k==i:\n",
    "            b=b+1\n",
    "    for n in Model_true3:\n",
    "        if n==i:\n",
    "            c=c+1\n",
    "\n",
    "tauxmatching_knn=(a/5+b/5+c/5)/3\n",
    "print(tauxmatching_knn*100,\"%\")"
   ]
  },
  {
   "cell_type": "markdown",
   "metadata": {},
   "source": [
    "# 5-2 Taux de maching KNN = 20%"
   ]
  },
  {
   "cell_type": "markdown",
   "metadata": {},
   "source": [
    "# 6- K-MEAN :\n",
    "## 6-2 Opérations : \n",
    "##  - Choix de nombre de clusters,on observe l'inertie de notre algorithme ou le wcss (Within     Cluster Sum of Squares)(methode coude)\n",
    "## -je prefere etre pragmatique avec un choix d'un petit nombre de clusters j'aurai trop d'individu dans le meme cluster de preference d'itiluser l'intuition et de choisir un nombre qui va nous donner des clusters avec des nombres pas trop grandes\n",
    "# -j'ai fait plusieurs essai pour decouper mon dendograme \n",
    "## -pour trouver un nombre moyen d'individus dans chaque clusters qui est proche de 5\n",
    "## -j'ai reparti mes individus sur 800 clusters(avec 800 je vais avoir des clusters avec au moyen 6 films : je voulais pas decouper encore plus parceque sinon je vais avoir des clusters avec juste un seul film ) cependant j'ai des clusters qui contienne plus que 5 et aussi des clusters avec moins de 5\n",
    "## -j'ai itulisé le KNN pour avoir les film les plus proches dans les clusters avec plus de 6 films\n",
    "## - j'ai gardé les clusters qui contienne moins de 6 films comme ils sont "
   ]
  },
  {
   "cell_type": "markdown",
   "metadata": {},
   "source": [
    "## 6-2 Methode habituelle pour choisir le nombre de clusters (methode de coude)representation de l'evolution de l'inertie intra clusters"
   ]
  },
  {
   "cell_type": "code",
   "execution_count": 180,
   "metadata": {},
   "outputs": [
    {
     "data": {
      "text/plain": [
       "<matplotlib.collections.PathCollection at 0x116530eb8>"
      ]
     },
     "execution_count": 180,
     "metadata": {},
     "output_type": "execute_result"
    },
    {
     "data": {
      "image/png": "[encoded data removed]",
      "text/plain": [
       "<Figure size 432x288 with 1 Axes>"
      ]
     },
     "metadata": {
      "needs_background": "light"
     },
     "output_type": "display_data"
    }
   ],
   "source": [
    "from sklearn import cluster\n",
    "import matplotlib.pyplot as plt\n",
    "%matplotlib inline\n",
    "a=[]\n",
    "for i in range(2,40):\n",
    "    kmeans = cluster.KMeans(n_clusters=i) \n",
    "    kmeans.fit(data_feautures1) \n",
    "    a.append(kmeans.inertia_)\n",
    "plt.scatter(range(2,40),a)"
   ]
  },
  {
   "cell_type": "markdown",
   "metadata": {},
   "source": [
    "## 6-2 d'apres la methode de 'coude'de voir la cassure pour choisir le nombre de clusters est n'est pas valable pour notre probleme,parce que on va avoir k_clusters = 4 ce qui implique un grand nombre moyen de film par clusters \n",
    "## - Comment peut on trouver le bon nombre de clusters:\n",
    "## -On doit etre pragmatique,on sait qu'on veut idéalement des clusters qui contient 6 films,pour les recommandeés\n",
    "## -j'ai trouvé que le bon numbre de clusters apres plusieurs essais est 800,avec au moyen un peu pres 7 films par clusters\n",
    "## - Probleme ;il y'aura des clusters avec moins de 6 films et d'autres avec plus de 6 film\n",
    "## - Solution itulisation de KNN pour les clusters avec plus de 6 films pour recommander les 5 plus proches,et garder les clusters inferieure ou egale 6\n",
    "## - Inconvenient avoir des recommandations avec moins de 5 films"
   ]
  },
  {
   "cell_type": "code",
   "execution_count": 181,
   "metadata": {
    "scrolled": true
   },
   "outputs": [
    {
     "name": "stderr",
     "output_type": "stream",
     "text": [
      "/anaconda3/lib/python3.6/site-packages/ipykernel_launcher.py:7: SettingWithCopyWarning: \n",
      "A value is trying to be set on a copy of a slice from a DataFrame.\n",
      "Try using .loc[row_indexer,col_indexer] = value instead\n",
      "\n",
      "See the caveats in the documentation: http://pandas.pydata.org/pandas-docs/stable/indexing.html#indexing-view-versus-copy\n",
      "  import sys\n",
      "/anaconda3/lib/python3.6/site-packages/ipykernel_launcher.py:8: SettingWithCopyWarning: \n",
      "A value is trying to be set on a copy of a slice from a DataFrame.\n",
      "Try using .loc[row_indexer,col_indexer] = value instead\n",
      "\n",
      "See the caveats in the documentation: http://pandas.pydata.org/pandas-docs/stable/indexing.html#indexing-view-versus-copy\n",
      "  \n",
      "/anaconda3/lib/python3.6/site-packages/ipykernel_launcher.py:9: SettingWithCopyWarning: \n",
      "A value is trying to be set on a copy of a slice from a DataFrame.\n",
      "Try using .loc[row_indexer,col_indexer] = value instead\n",
      "\n",
      "See the caveats in the documentation: http://pandas.pydata.org/pandas-docs/stable/indexing.html#indexing-view-versus-copy\n",
      "  if __name__ == '__main__':\n"
     ]
    }
   ],
   "source": [
    "# Classification par K-Means\n",
    "kmeans = cluster.KMeans(n_clusters=800) \n",
    "kmeans.fit(data_feautures1) \n",
    "#index triés des groupes \n",
    "idk = np.argsort(kmeans.labels_) \n",
    "gdf=data_feautures1.iloc[idk]\n",
    "gdf['id']=idk\n",
    "gdf['movies']=data_feautures1.index[idk]\n",
    "gdf['groupe']=kmeans.labels_[idk]\n",
    "df=gdf.groupby(['groupe']).count()"
   ]
  },
  {
   "cell_type": "markdown",
   "metadata": {},
   "source": [
    "# 6-2 K-MEAN RECOMMANDATION"
   ]
  },
  {
   "cell_type": "code",
   "execution_count": 182,
   "metadata": {},
   "outputs": [],
   "source": [
    "def Recom_K_mean(id):\n",
    "    ali=data_feautures1.iloc[kmeans.labels_[idk]==kmeans.labels_[idk][id]]\n",
    "    if len(ali)>6:\n",
    "        from sklearn.neighbors import NearestNeighbors\n",
    "        nbrs = NearestNeighbors(n_neighbors=6, algorithm='ball_tree').fit(ali)\n",
    "    \n",
    "        distances_ny, indices_ny = nbrs.kneighbors(ali)\n",
    "    \n",
    "        datat1=pd.DataFrame(indices_ny)\n",
    "        datat1.index=ali.index\n",
    "    \n",
    "        print(data['movie_title'].iloc[datat1.loc[id][1:]])\n",
    "    else:\n",
    "        print(data['movie_title'][ali.index])"
   ]
  },
  {
   "cell_type": "code",
   "execution_count": 183,
   "metadata": {},
   "outputs": [
    {
     "name": "stdout",
     "output_type": "stream",
     "text": [
      "13                             The Lone Ranger \n",
      "10                            Superman Returns \n",
      "1     Pirates of the Caribbean: At World's End \n",
      "0                                       Avatar \n",
      "3                        The Dark Knight Rises \n",
      "Name: movie_title, dtype: object\n"
     ]
    }
   ],
   "source": [
    "Recom_K_mean(192)"
   ]
  },
  {
   "cell_type": "markdown",
   "metadata": {},
   "source": [
    "#  6-3 Évaluation k-MEANS\n",
    "\n",
    "#  - Pour l’évaluation , je choisis de calculer le taux de matching entre les resultat que je vais avoir comme recommandation et les veritées terrains que j'ai construit. :\n",
    "# - Taux de matching k_mean = 0% pour une recommandation aleatoire pour le ID = 192"
   ]
  },
  {
   "cell_type": "code",
   "execution_count": 184,
   "metadata": {},
   "outputs": [
    {
     "name": "stdout",
     "output_type": "stream",
     "text": [
      "0.0 %\n"
     ]
    }
   ],
   "source": [
    "#je vais evaluer notre algorithme par rapport aux vérité terrain 1,2,3\n",
    "\n",
    "Model_true1 = [27,19,10,16,28]\n",
    "Model_true2 = [177,260,102,101,8]\n",
    "Model_true3 = [29,192,110,218,486]\n",
    "model_recom_kmean_id_192=[44,36,51,25,26]\n",
    "\n",
    "a=0\n",
    "b=0\n",
    "c=0\n",
    "for i in model_recom_kmean_id_192:\n",
    "    for j in Model_true1:\n",
    "        if j==i:\n",
    "            a=a+1\n",
    "    for k in Model_true2:\n",
    "        if k==i:\n",
    "            b=b+1\n",
    "    for n in Model_true3:\n",
    "        if n==i:\n",
    "            c=c+1\n",
    "\n",
    "tauxmatching_kmean=(a/5+b/5+c/5)/3\n",
    "print(tauxmatching_kmean*100,\"%\")"
   ]
  },
  {
   "cell_type": "markdown",
   "metadata": {},
   "source": [
    "# 6-4 - Taux de matching k_mean = 0% pour une recommandation aleatoire pour le ID = 192"
   ]
  },
  {
   "cell_type": "markdown",
   "metadata": {},
   "source": [
    "# 7 - CHA : \n",
    "## 7-1 Operation :\n",
    "## j'ai fait plusieurs essai pour decouper mon dendograme \n",
    "## pour trouver un nombre moyen d'individus dans chaque clusters qui est proche de 5\n",
    "## j'ai reparti mes individus sur 616 clusters(avec 616 je vais avoir des clusters avec au moyen 7 films : je voulais pas decouper encore plus parceque sinon je vais avoir des clusters avec juste un seul film ) cependant j'ai des clusters qui contienne plus que 5 et aussi des clusters avec moins de 5\n",
    "## j'ai itulisé le KNN pour avoir les film les plus proches dans les clusters avec plus de 6 films\n",
    "## j'ai gardé les clusters qui contienne moins de 6 films comme ils sont \n"
   ]
  },
  {
   "cell_type": "code",
   "execution_count": 185,
   "metadata": {},
   "outputs": [
    {
     "data": {
      "image/png": "[encoded data removed]",
      "text/plain": [
       "<Figure size 1440x864 with 1 Axes>"
      ]
     },
     "metadata": {
      "needs_background": "light"
     },
     "output_type": "display_data"
    },
    {
     "name": "stdout",
     "output_type": "stream",
     "text": [
      "616 groupes constitués\n"
     ]
    }
   ],
   "source": [
    "from matplotlib import pyplot as plt \n",
    "from scipy.cluster.hierarchy import dendrogram, linkage \n",
    "import scipy.cluster.hierarchy as sch\n",
    "\n",
    "%matplotlib inline\n",
    "\n",
    "import warnings\n",
    "warnings.simplefilter(action = \"ignore\", category = FutureWarning)\n",
    "\n",
    "\n",
    "#générer la matrice des liens \n",
    "Z = linkage(data_feautures1,method='ward',metric='euclidean') \n",
    "\n",
    "# génération et affichage du dendrogramme\n",
    "\n",
    "plt.figure(figsize=(20,12))\n",
    "plt.title(\"CAH\") \n",
    "\n",
    "dendrogram(Z,labels=data_feautures1.index,no_labels=True,color_threshold=1200)\n",
    "\n",
    "plt.show() \n",
    "groupes_cah = sch.fcluster(Z,t=3,criterion='distance') \n",
    "print(np.unique(groupes_cah).size, \"groupes constitués\")\n"
   ]
  },
  {
   "cell_type": "code",
   "execution_count": 186,
   "metadata": {},
   "outputs": [
    {
     "name": "stderr",
     "output_type": "stream",
     "text": [
      "/anaconda3/lib/python3.6/site-packages/ipykernel_launcher.py:5: SettingWithCopyWarning: \n",
      "A value is trying to be set on a copy of a slice from a DataFrame.\n",
      "Try using .loc[row_indexer,col_indexer] = value instead\n",
      "\n",
      "See the caveats in the documentation: http://pandas.pydata.org/pandas-docs/stable/indexing.html#indexing-view-versus-copy\n",
      "  \"\"\"\n"
     ]
    }
   ],
   "source": [
    "#Affichage des groupes\n",
    "idg = np.argsort(groupes_cah) \n",
    "\n",
    "gdf1=data_feautures1.iloc[idg]\n",
    "gdf1['groupe']=groupes_cah[idg]\n",
    "\n",
    "df1=gdf1.groupby(['groupe']).count()"
   ]
  },
  {
   "cell_type": "markdown",
   "metadata": {},
   "source": [
    "# 7-2 RECOMMANDATION CHA :"
   ]
  },
  {
   "cell_type": "code",
   "execution_count": 187,
   "metadata": {},
   "outputs": [],
   "source": [
    "def similar_sam_classe_CHA(id):\n",
    "    alif1=data_feautures1.iloc[groupes_cah[idg]==groupes_cah[idg][id]]\n",
    "    if len(alif1)>6:\n",
    "        from sklearn.neighbors import NearestNeighbors\n",
    "        nbrs = NearestNeighbors(n_neighbors=6, algorithm='ball_tree').fit(alif1)\n",
    "        distances_nX, indices_nX = nbrs.kneighbors(alif1)\n",
    "        datat=pd.DataFrame(indices_nX)\n",
    "        datat.index=alif1.index\n",
    "        print(data['movie_title'].iloc[datat.loc[id][1:]])\n",
    "    else:\n",
    "        print(data['movie_title'][alif1.index])"
   ]
  },
  {
   "cell_type": "code",
   "execution_count": 188,
   "metadata": {},
   "outputs": [
    {
     "name": "stdout",
     "output_type": "stream",
     "text": [
      "191                                 Rio 2 \n",
      "192                               X-Men 2 \n",
      "193                             Fast Five \n",
      "194    Sherlock Holmes: A Game of Shadows \n",
      "195                      The 13th Warrior \n",
      "Name: movie_title, dtype: object\n"
     ]
    }
   ],
   "source": [
    "similar_sam_classe_CHA(192)"
   ]
  },
  {
   "cell_type": "markdown",
   "metadata": {},
   "source": [
    "# 7-3 Evaluation d'algorithmes (matching avec les veritées terrains)\n",
    "## 7-3-1- Évaluation CHA\n",
    "\n",
    "##  7-3- 2- Pour l’évaluation , je choisis de calculer le taux de matching entre les resultat que je vais avoir comme recommandation et les veritées terrains que j'ai construit. :\n"
   ]
  },
  {
   "cell_type": "code",
   "execution_count": 189,
   "metadata": {},
   "outputs": [
    {
     "name": "stdout",
     "output_type": "stream",
     "text": [
      "6.666666666666667 %\n"
     ]
    }
   ],
   "source": [
    "#je vais evaluer notre algorithme par rapport aux vérité terrain 1,2,3\n",
    "\n",
    "Model_true1 = [27,19,10,16,28]\n",
    "Model_true2 = [177,260,102,101,8]\n",
    "Model_true3 = [29,192,110,218,486]\n",
    "model_recom_CHA=[191,192,193,194,195]\n",
    "\n",
    "a=0\n",
    "b=0\n",
    "c=0\n",
    "for i in model_recom_CHA:\n",
    "    for j in Model_true1:\n",
    "        if j==i:\n",
    "            a=a+1\n",
    "    for k in Model_true2:\n",
    "        if k==i:\n",
    "            b=b+1\n",
    "    for n in Model_true3:\n",
    "        if n==i:\n",
    "            c=c+1\n",
    "\n",
    "tauxmatching_CHA=(a/5+b/5+c/5)/3\n",
    "print(tauxmatching_CHA*100,\"%\")"
   ]
  },
  {
   "cell_type": "markdown",
   "metadata": {},
   "source": [
    "## 7-3-3- Taux de matching CHA = 6.66% pour une recommandation aleatoire pour le ID = 192"
   ]
  },
  {
   "cell_type": "markdown",
   "metadata": {},
   "source": [
    "# 8 - Synthése : \n",
    "# Meilleur methode : apres la comparaison entre les methodes KNN ,CHA K-mean, le taux de matching moyen de la knn est le plus grand(20%).\n",
    "# Methode choisi KNN"
   ]
  },
  {
   "cell_type": "markdown",
   "metadata": {},
   "source": [
    "# 9 - FLASK API : Recommender \n",
    "### Creation de l'api sur flask. \n",
    "### Sur la page d'accueil une liste des film avec les \"id\" à choisir. \n",
    "### recherche lancée, le serveur cherche les 5 points les plus proches basés sur les résultats K-MEANS  \n",
    "### retourne ces données à un template pour l'affichage.\n",
    "### Le site est disponible à cette adresse : http://agrandik.pythonanywhere.com/"
   ]
  },
  {
   "cell_type": "code",
   "execution_count": null,
   "metadata": {},
   "outputs": [],
   "source": []
  }
 ],
 "metadata": {
  "kernelspec": {
   "display_name": "Python 3",
   "language": "python",
   "name": "python3"
  },
  "language_info": {
   "codemirror_mode": {
    "name": "ipython",
    "version": 3
   },
   "file_extension": ".py",
   "mimetype": "text/x-python",
   "name": "python",
   "nbconvert_exporter": "python",
   "pygments_lexer": "ipython3",
   "version": "3.6.8"
  }
 },
 "nbformat": 4,
 "nbformat_minor": 2
}
