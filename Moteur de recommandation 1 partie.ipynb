{
 "cells": [
  {
   "cell_type": "markdown",
   "metadata": {},
   "source": [
    "#    Moteur de recommandations de films - I\n",
    "\n",
    "## Sommaire : \n",
    " \n",
    "### -1-Néttoyage dataset:\n",
    "\n",
    "      - Taux de remplissageapres du dataset\n",
    "      - Etudes de corrélation :\n",
    "             - Représentation graphipe de la matrice : (suprimer les variables non correlées avec les autres)\n",
    "         \n",
    "      - Taux de remplissageapres du dataset sans doublons et apres le premier néttoyage \n",
    "      - Traitement des valeurs manquantes : \n",
    "                - variables quantitatives:\n",
    "                        -methodes(remplacement par la moyenne , remplacement par 0)\n",
    "                - variables catégorielles:\n",
    "                        -methodes(remplacement par une string vide)\n",
    "\n",
    "### -2-Analyse exploratoire : \n",
    "\n",
    "      -Analyse univariée:\n",
    "          -la repartition du IMDB SCORE par rapport aux films\n",
    "          -Movie facebook like\n",
    "          \n",
    "          \n",
    "      -Analyse bivariée : \n",
    "          -Note IMDB par genre de film \n",
    "         \n",
    "\n",
    "### -3- Préparation des données   \n",
    "\n",
    "       -Variables quantitatives :\n",
    "           -isoler les données numériques, demandent pas plus de traitement.\n",
    "       -variables catégorielles  :\n",
    "           -binariser les données categoriales :\n",
    "                - Director name\n",
    "                - Actor's(regrouper les trois types d'acteurs en une seule variables )\n",
    "                - Genre\n",
    "                - Content rating\n",
    "                - Country\n",
    "                \n",
    "###  -4-   SCORE DE SIMILARITÉ \n",
    "\n",
    "  #### -4-1-PREMIERE RESULTAT : UNE PREMIERE FONCTION DE RECOMMANDATION BASÉE SUR SCORE DE SIMILARITÉ , COSINE( mots clefs et popularité : IMDB)\n",
    "      \n",
    "      -calculerez des vecteurs de fréquence de document à fréquence inverse (TF-IDF) pour chaque mot\n",
    "      -Calcule de similarité baser sur COSINE appliquer sur les ( KEY WORDS ):quand on demande une recommandation de film, l'algorithme donne les 10 films les plus proches .\n",
    "      \n",
    "#### - 4 - 1  - COSINE D'ANGLE ENTRE DEUX VECTEURS (PLUSIEURS DIMENSIONS)(entre tout les variables qu'on a preparé et binaraisé et standarisé   \n",
    "\n",
    "#### - 4 - 2  - DISTANCE DE MANHATTAN\n",
    "\n",
    "#### - 4 - 3  - DISTANCE EUCLIDIEAN\n",
    "\n",
    "#### - 4 - 4  - DISTANCE CHEBYSHEV\n",
    "\n",
    "#### - 4 - 5  - DISTANCE MINKOWSKI\n",
    "\n",
    "###  - 5  - COMPARAISON DE DISTANCE\n",
    "\n",
    "         -distance retenu\n",
    "### - 6 - KNN RECOMMANDATION\n",
    "### - 7 - K-MEANS\n",
    "\n",
    "         \n",
    "\n",
    "\n",
    "\n",
    "####  - 6  CLUSTERING HIERACHIQUE(CHA)\n",
    "\n",
    "          -dendogramm\n",
    "          \n",
    "          -dendogramm\n",
    "          -conclusion\n",
    "          \n",
    "### API FLASK"
   ]
  },
  {
   "cell_type": "code",
   "execution_count": 89,
   "metadata": {},
   "outputs": [],
   "source": [
    "import pandas as pd\n",
    "import numpy as np\n",
    "\n",
    "# importer DATASET\n",
    "data_set = pd.read_csv('movie_metadata.csv')\n",
    "df = data_set"
   ]
  },
  {
   "cell_type": "code",
   "execution_count": 90,
   "metadata": {
    "scrolled": true
   },
   "outputs": [
    {
     "data": {
      "image/png": "[encoded data removed]",
      "text/plain": [
       "<Figure size 432x288 with 1 Axes>"
      ]
     },
     "metadata": {
      "needs_background": "light"
     },
     "output_type": "display_data"
    }
   ],
   "source": [
    "\n",
    "p_remplissage=df.isnull().sum()\n",
    "p_remplissage\n",
    "taux_remplissage=((5043-p_remplissage)/5043)*100\n",
    "taux_rempli=pd.DataFrame(taux_remplissage)\n",
    "Taux_remplissage=taux_rempli.sort_values(by = 0)\n",
    "\n",
    "import matplotlib.pyplot as plt\n",
    "x = np.array(range(len(Taux_remplissage)))\n",
    "y = np.array(Taux_remplissage[0])\n",
    "plt.plot(x, y)\n",
    "\n",
    "plt.show() # affiche la figure a l'ecran\n"
   ]
  },
  {
   "cell_type": "markdown",
   "metadata": {},
   "source": [
    "# taux remplissage total"
   ]
  },
  {
   "cell_type": "code",
   "execution_count": 91,
   "metadata": {},
   "outputs": [
    {
     "data": {
      "text/plain": [
       "98.08928925526187"
      ]
     },
     "execution_count": 91,
     "metadata": {},
     "output_type": "execute_result"
    }
   ],
   "source": [
    "\n",
    "taux_remplissage_total=(sum(Taux_remplissage[0])/len(Taux_remplissage))\n",
    "taux_remplissage_total"
   ]
  },
  {
   "cell_type": "markdown",
   "metadata": {},
   "source": [
    "# suprimer les doublons"
   ]
  },
  {
   "cell_type": "code",
   "execution_count": 92,
   "metadata": {},
   "outputs": [],
   "source": [
    "\n",
    "data = df.drop_duplicates(subset='movie_title', keep='last')\n",
    "data.index=range(len(data))"
   ]
  },
  {
   "cell_type": "markdown",
   "metadata": {},
   "source": [
    "# Taux de remplissageapres apres la supression des doublons"
   ]
  },
  {
   "cell_type": "code",
   "execution_count": 93,
   "metadata": {},
   "outputs": [
    {
     "data": {
      "text/plain": [
       "98.07228565617827"
      ]
     },
     "execution_count": 93,
     "metadata": {},
     "output_type": "execute_result"
    }
   ],
   "source": [
    "# Taux de remplissageapres la supression des doublons\n",
    "p_remplissage2=data.isnull().sum()\n",
    "\n",
    "taux_remplissage2=((len(data)-p_remplissage2)/len(data))*100\n",
    "taux_rempli2=pd.DataFrame(taux_remplissage2)\n",
    "Taux_remplissage2=taux_rempli2.sort_values(by = 0)\n",
    "taux_remplissage_total2=(sum(Taux_remplissage2[0])/len(Taux_remplissage2))\n",
    "taux_remplissage_total2\n"
   ]
  },
  {
   "cell_type": "markdown",
   "metadata": {},
   "source": [
    "# Traitement des valeurs manquantes : Variables Catégorielles : \n",
    "## Concernant les variables catégorielles je choisi de de remplacer  les valeurs manquantes par des champs vides. \n",
    "## Ca sera difficile d'imputer leur valeurs et avoir un resultat fiable par exemple pour le nom de realisateur pour pouvoir trouver son nom on doit faire un scraping qui est compliqué, en effet les valeurs vont etr"
   ]
  },
  {
   "cell_type": "code",
   "execution_count": 94,
   "metadata": {
    "scrolled": false
   },
   "outputs": [
    {
     "name": "stderr",
     "output_type": "stream",
     "text": [
      "/anaconda3/lib/python3.6/site-packages/pandas/core/frame.py:3391: SettingWithCopyWarning: \n",
      "A value is trying to be set on a copy of a slice from a DataFrame.\n",
      "Try using .loc[row_indexer,col_indexer] = value instead\n",
      "\n",
      "See the caveats in the documentation: http://pandas.pydata.org/pandas-docs/stable/indexing.html#indexing-view-versus-copy\n",
      "  self[k1] = value[k2]\n"
     ]
    }
   ],
   "source": [
    "# Traitement des valeurs manquantes : Variables Catégorielles : \n",
    "# concernant les variables catégorielles je choisi de de remplacer  les valeurs manquantes par des champs vides. \n",
    "# Ca sera difficile d'imputer leur valeurs et avoir un resultat fiable par exemple pour le nom de realisateur pour pouvoir trouver son nom on doit faire un scraping qui est compliqué, en effet les valeurs vont etre traiter comme des valeurs muettes \n",
    "data[['actor_3_name']] = data[['actor_3_name']].fillna('')\n",
    "data[['plot_keywords']] = data[['plot_keywords']].fillna('')\n",
    "data[['movie_imdb_link']] = data[['movie_imdb_link']].fillna('')\n",
    "data[['language']] = data[['language']].fillna('')\n",
    "data[['country']] = data[['country']].fillna('')\n",
    "data[['content_rating']] = data[['content_rating']].fillna('')\n",
    "\n",
    "data[['color']] = data[['color']].fillna('')\n",
    "data[['director_name']] = data[['director_name']].fillna('')\n",
    "data[['actor_2_name']] = data[['actor_2_name']].fillna('')\n",
    "data[['genres']] = data[['genres']].fillna('')\n",
    "data[['actor_1_name']] = data[['actor_1_name']].fillna('')\n"
   ]
  },
  {
   "cell_type": "markdown",
   "metadata": {},
   "source": [
    "# Traitement des missing values valeurs numeriques\n",
    "#### num_critic_for_reviews\n",
    "#### director_facebook_likes\n",
    "#### actor_3_facebook_likes\n",
    "#### actor_1_facebook_likes\n",
    "#### num_voted_users\n",
    "#### cast_total_facebook_likes\n",
    "#### face_number_in_poster\n",
    "#### num_user_for_reviews\n",
    "#### actor_2_facebook_likes\n",
    "#### movie_facebook_likes\n",
    "#### duration\n",
    "#### gross\n",
    "####  budget\n",
    "####  title_year\n",
    "####  aspect_ratio\n",
    "#### on met pour les missing values de :  num_critic_for_reviews, director_facebook_likes, actor_3_facebook_likes\n",
    "#### actor_1_facebook_likes, number_voted_users, cast_total_facebook_likes, \n",
    "#### num_user_for_reviews, actor_2_facebook_likes, movie_facebook_likes"
   ]
  },
  {
   "cell_type": "code",
   "execution_count": 95,
   "metadata": {},
   "outputs": [],
   "source": [
    "\n",
    "data[['num_critic_for_reviews']] = data[['num_critic_for_reviews']].fillna(0)\n",
    "data[['director_facebook_likes']] = data[['director_facebook_likes']].fillna(0)\n",
    "data[['actor_3_facebook_likes']] = data[['actor_3_facebook_likes']].fillna(0)\n",
    "data[['actor_1_facebook_likes']] = data[['actor_1_facebook_likes']].fillna(0)\n",
    "data[['num_voted_users']] = data[['num_voted_users']].fillna(0)\n",
    "data[['num_user_for_reviews']] = data[['num_user_for_reviews']].fillna(0)\n",
    "data[['actor_2_facebook_likes']] = data[['actor_2_facebook_likes']].fillna(0)\n",
    "data[['movie_facebook_likes']] = data[['movie_facebook_likes']].fillna(0)\n"
   ]
  },
  {
   "cell_type": "markdown",
   "metadata": {},
   "source": [
    "## changement de  missing values par  mean pour :  duration, title_year"
   ]
  },
  {
   "cell_type": "code",
   "execution_count": 96,
   "metadata": {},
   "outputs": [],
   "source": [
    "#changement de  missing values par  mean pour :  duration, title_year\n",
    "data[['duration']] = data[['duration']].fillna(data[['duration']].mean())\n",
    "data[['title_year']] = data[['title_year']].fillna(data[['title_year']].mean())\n"
   ]
  },
  {
   "cell_type": "markdown",
   "metadata": {},
   "source": [
    "## -Il nous reste les missing valuess des variables numeriques suivantes \n",
    "## -Avant on va representer graphiquement la matrice des Coefficients de corrélations entre les différentes variables quantitatives du dataframe."
   ]
  },
  {
   "cell_type": "code",
   "execution_count": 97,
   "metadata": {
    "scrolled": true
   },
   "outputs": [
    {
     "data": {
      "text/plain": [
       "<matplotlib.axes._subplots.AxesSubplot at 0x12036acc0>"
      ]
     },
     "execution_count": 97,
     "metadata": {},
     "output_type": "execute_result"
    },
    {
     "data": {
      "image/png": "[encoded data removed]",
      "text/plain": [
       "<Figure size 432x288 with 2 Axes>"
      ]
     },
     "metadata": {
      "needs_background": "light"
     },
     "output_type": "display_data"
    }
   ],
   "source": [
    "#Il nous reste les missing valuess des variables numeriques suivantes \n",
    "# avant on va representer graphiquement la matrice des Coefficients de corrélations entre les différentes variables quantitatives du dataframe.\n",
    "Data_numerique=data[['num_critic_for_reviews','aspect_ratio','title_year','gross','duration','movie_facebook_likes','actor_2_facebook_likes','num_user_for_reviews','facenumber_in_poster','cast_total_facebook_likes','num_voted_users','actor_1_facebook_likes','actor_3_facebook_likes','director_facebook_likes','num_critic_for_reviews']]\n",
    "import seaborn as sns\n",
    "corr = Data_numerique.corr()\n",
    "sns.heatmap(corr, \n",
    "            xticklabels=corr.columns.values,\n",
    "            yticklabels=corr.columns.values)"
   ]
  },
  {
   "cell_type": "markdown",
   "metadata": {},
   "source": [
    "## 1. ’cast_total_facebook_likes’ ≡ ’actor_1_facebook_likes’ (α = 0.95)\n",
    "## 2. ’budget’, ’facenumber_in_poster’, ’aspect_ratio’ sont décorrélées de l’ensembles des autres variables (α < 0.2 ∀ couple)\n",
    "## 1/ Par consistance avec les autres variables présentes dans le dataframe : \n",
    "## je Décide de supprimer la variable ’cast_total_facebook_likes’.\n",
    "## 2/ Représentent respectivement le budget du film, le nombre de personnes sur l’affiche du film et le format de l’image.\n",
    "## Ces deux dernières variables présentent peu d’intérêt pour le moteur de recherche et sont suprimées. \n",
    "## Dans le cas de la variable ’budget’, il est intéressant de remarquer qu’elle semble décorrélée de la variable ’gross’ qui donne les recettes générées par le film. La raison est que la variable ’budget’ contient des budgets mélangeant des devises étrangères, ce qui rend son compte peu significatif4. Cette variable est donc supprimée 5"
   ]
  },
  {
   "cell_type": "code",
   "execution_count": 98,
   "metadata": {
    "scrolled": true
   },
   "outputs": [
    {
     "name": "stderr",
     "output_type": "stream",
     "text": [
      "/anaconda3/lib/python3.6/site-packages/pandas/core/frame.py:3940: SettingWithCopyWarning: \n",
      "A value is trying to be set on a copy of a slice from a DataFrame\n",
      "\n",
      "See the caveats in the documentation: http://pandas.pydata.org/pandas-docs/stable/indexing.html#indexing-view-versus-copy\n",
      "  errors=errors)\n"
     ]
    }
   ],
   "source": [
    "\n",
    "data.drop([\"gross\",\"budget\",\"cast_total_facebook_likes\",\"facenumber_in_poster\",\"aspect_ratio\"],axis=1,inplace=True)\n"
   ]
  },
  {
   "cell_type": "code",
   "execution_count": 99,
   "metadata": {
    "scrolled": false
   },
   "outputs": [
    {
     "data": {
      "text/plain": [
       "Index(['color', 'director_name', 'num_critic_for_reviews', 'duration',\n",
       "       'director_facebook_likes', 'actor_3_facebook_likes', 'actor_2_name',\n",
       "       'actor_1_facebook_likes', 'genres', 'actor_1_name', 'movie_title',\n",
       "       'num_voted_users', 'actor_3_name', 'plot_keywords', 'movie_imdb_link',\n",
       "       'num_user_for_reviews', 'language', 'country', 'content_rating',\n",
       "       'title_year', 'actor_2_facebook_likes', 'imdb_score',\n",
       "       'movie_facebook_likes'],\n",
       "      dtype='object')"
      ]
     },
     "execution_count": 99,
     "metadata": {},
     "output_type": "execute_result"
    }
   ],
   "source": [
    "data.columns"
   ]
  },
  {
   "cell_type": "code",
   "execution_count": 107,
   "metadata": {},
   "outputs": [],
   "source": [
    "data.to_csv('data.csv')"
   ]
  },
  {
   "cell_type": "markdown",
   "metadata": {},
   "source": [
    "# ANALYSE EXPLORATOIRE \n"
   ]
  },
  {
   "cell_type": "markdown",
   "metadata": {},
   "source": [
    "## Premierement on va etudier la repartition du score donnée par les itulisateurs aux films "
   ]
  },
  {
   "cell_type": "code",
   "execution_count": 100,
   "metadata": {
    "scrolled": true
   },
   "outputs": [
    {
     "data": {
      "text/plain": [
       "array([[<matplotlib.axes._subplots.AxesSubplot object at 0x1a38795978>]],\n",
       "      dtype=object)"
      ]
     },
     "execution_count": 100,
     "metadata": {},
     "output_type": "execute_result"
    },
    {
     "data": {
      "image/png": "[encoded data removed]",
      "text/plain": [
       "<Figure size 432x288 with 1 Axes>"
      ]
     },
     "metadata": {
      "needs_background": "light"
     },
     "output_type": "display_data"
    }
   ],
   "source": [
    "\n",
    "#Premierement on va etudier la repartition du score donnée par les itulisateurs aux films \n",
    "%matplotlib inline\n",
    "data[['imdb_score']].hist(bins= 10)\n",
    "#Remarque la repartition tourne vers 6 et 7 (note), elle est positive du coup on peut constater que les film sont bien noté "
   ]
  },
  {
   "cell_type": "markdown",
   "metadata": {},
   "source": [
    "## Remarque : la repartition tourne vers 6 et 7 (note), elle est positive du coup on peut constater que les film sont bien noté "
   ]
  },
  {
   "cell_type": "markdown",
   "metadata": {},
   "source": [
    "## Note imdb par genre de film "
   ]
  },
  {
   "cell_type": "code",
   "execution_count": 101,
   "metadata": {
    "scrolled": true
   },
   "outputs": [
    {
     "data": {
      "text/plain": [
       "[Text(0, 0, 'Action'),\n",
       " Text(0, 0, 'Adventure'),\n",
       " Text(0, 0, 'Animation'),\n",
       " Text(0, 0, 'Biography'),\n",
       " Text(0, 0, 'Comedy'),\n",
       " Text(0, 0, 'Crime'),\n",
       " Text(0, 0, 'Documentary'),\n",
       " Text(0, 0, 'Drama'),\n",
       " Text(0, 0, 'Family'),\n",
       " Text(0, 0, 'Fantasy'),\n",
       " Text(0, 0, 'Film-Noir'),\n",
       " Text(0, 0, 'Game-Show'),\n",
       " Text(0, 0, 'History'),\n",
       " Text(0, 0, 'Horror'),\n",
       " Text(0, 0, 'Music'),\n",
       " Text(0, 0, 'Musical'),\n",
       " Text(0, 0, 'Mystery'),\n",
       " Text(0, 0, 'News'),\n",
       " Text(0, 0, 'Reality-TV'),\n",
       " Text(0, 0, 'Romance'),\n",
       " Text(0, 0, 'Sci-Fi'),\n",
       " Text(0, 0, 'Short'),\n",
       " Text(0, 0, 'Sport'),\n",
       " Text(0, 0, 'Thriller'),\n",
       " Text(0, 0, 'War'),\n",
       " Text(0, 0, 'Western')]"
      ]
     },
     "execution_count": 101,
     "metadata": {},
     "output_type": "execute_result"
    },
    {
     "data": {
      "image/png": "[encoded data removed]",
      "text/plain": [
       "<Figure size 432x288 with 1 Axes>"
      ]
     },
     "metadata": {
      "needs_background": "light"
     },
     "output_type": "display_data"
    }
   ],
   "source": [
    "#Note imdb par genre de film \n",
    "\n",
    "import matplotlib.pyplot as plt\n",
    "genres_ = data.set_index(data.index).genres.str.split(r'|', expand=True).stack().reset_index(level=1, drop=True).to_frame('genre'); \n",
    "genresIMDB = pd.concat([genres_, data[['imdb_score']]], axis=1)\n",
    "genresIMDB.boxplot(column='imdb_score', by='genre')\n",
    "ax = plt.gca()\n",
    "ax.set_xticklabels(ax.get_xticklabels(),rotation=90)\n",
    "\n",
    "# il n'y'a pas de surprise, la plus part des notes sont proche de la moyenne, comedie meilleurse note télé realité mauvaise note"
   ]
  },
  {
   "cell_type": "markdown",
   "metadata": {},
   "source": [
    "## Remarque : il n'y'a pas de surprise, la plus part des notes sont proche de la moyenne, comedie meilleurse note télé realité mauvaise note"
   ]
  },
  {
   "cell_type": "markdown",
   "metadata": {},
   "source": [
    "## Movie facebook like"
   ]
  },
  {
   "cell_type": "code",
   "execution_count": 102,
   "metadata": {
    "scrolled": false
   },
   "outputs": [
    {
     "data": {
      "text/plain": [
       "[]"
      ]
     },
     "execution_count": 102,
     "metadata": {},
     "output_type": "execute_result"
    },
    {
     "data": {
      "image/png": "[encoded data removed]",
      "text/plain": [
       "<Figure size 432x288 with 1 Axes>"
      ]
     },
     "metadata": {
      "needs_background": "light"
     },
     "output_type": "display_data"
    }
   ],
   "source": [
    "# Movie facebook like\n",
    "Movie_facebook_likes = data[['movie_facebook_likes']]\n",
    "bins = 10**(np.arange(0,4,0.1))\n",
    "Movie_facebook_likes.hist(bins=bins)\n",
    "plt.semilogx()"
   ]
  },
  {
   "cell_type": "markdown",
   "metadata": {},
   "source": [
    "# Préparation des données\n",
    "### Pour préparer les données, je vais isolées les données numerique. \n",
    "#### je vais tout d'abord isoler les données numériques qui ne demandent pas plus de traitement que ceux déjà fait.\n",
    "#### on va binariser les données categoriales (methode ONEHOTENCODING)\n",
    "\n"
   ]
  },
  {
   "cell_type": "code",
   "execution_count": 103,
   "metadata": {},
   "outputs": [],
   "source": [
    "# Préparation des données\n",
    "#Pour préparer les données, je vais isolées les données numerique. \n",
    "#je vais tout d'abord isoler les données numériques qui ne demandent pas plus de traitement que ceux déjà fait.\n",
    "# on va binariser les données categoriales (methode ONEHOTENCODING)\n",
    "\n",
    "\n",
    "num_critic_for_reviews = data[['num_critic_for_reviews']]\n",
    "director_facebook_likes = data[['director_facebook_likes']]\n",
    "actor_3_facebook_likes = data[['actor_3_facebook_likes']]\n",
    "actor_1_facebook_likes = data[['actor_1_facebook_likes']]\n",
    "num_voted_users = data[['num_voted_users']]\n",
    "num_user_for_reviews = data[['num_user_for_reviews']]\n",
    "actor_2_facebook_likes = data[['actor_2_facebook_likes']]\n",
    "movie_facebook_likes = data[['movie_facebook_likes']]\n",
    "duration = data[['duration']]\n",
    "\n",
    "title_year = data[['title_year']]\n",
    "imdb_score = data[['imdb_score']]\n",
    "movie_title = data[['movie_title']]\n"
   ]
  },
  {
   "cell_type": "markdown",
   "metadata": {},
   "source": [
    "# Director name :  OneHotEncoding\n",
    "### On prends les noms des directeurs avec plus de 5 films à leurs actifs.\n",
    "### set up categorical data director_name"
   ]
  },
  {
   "cell_type": "code",
   "execution_count": 104,
   "metadata": {},
   "outputs": [
    {
     "name": "stderr",
     "output_type": "stream",
     "text": [
      "/anaconda3/lib/python3.6/site-packages/ipykernel_launcher.py:7: SettingWithCopyWarning: \n",
      "A value is trying to be set on a copy of a slice from a DataFrame.\n",
      "Try using .loc[row_indexer,col_indexer] = value instead\n",
      "\n",
      "See the caveats in the documentation: http://pandas.pydata.org/pandas-docs/stable/indexing.html#indexing-view-versus-copy\n",
      "  import sys\n"
     ]
    }
   ],
   "source": [
    "# Director name\n",
    "# On prends les noms des directeurs avec plus de 5 films à leurs actifs.\n",
    "#set up categorical data director_name\n",
    "from sklearn.preprocessing import LabelEncoder\n",
    "le_director_name = LabelEncoder()\n",
    "\n",
    "data['director_name_encoded'] = le_director_name.fit_transform(data.director_name)\n",
    "from sklearn.preprocessing import OneHotEncoder\n",
    "director_name_ohe = OneHotEncoder()\n",
    "\n",
    "Xn = director_name_ohe.fit_transform(data.director_name_encoded.values.reshape(-1,1)).toarray()\n",
    "director_name_Hot = pd.DataFrame(Xn, columns = [\"director_name_\"+str(int(i)) for i in range(Xn.shape[1])])\n",
    "directors_index = np.argwhere(sum(director_name_Hot.values == 1) >10)[:,0]\n",
    "director_name_Hot=director_name_Hot.iloc[:,directors_index]"
   ]
  },
  {
   "cell_type": "code",
   "execution_count": 108,
   "metadata": {},
   "outputs": [],
   "source": [
    "director_name_Hot.to_csv('director_name_Hot.csv')"
   ]
  },
  {
   "cell_type": "markdown",
   "metadata": {},
   "source": [
    "# Acteurs : \n",
    "## - On regroupe les acteurs dans une seule catégories pour simplement noter leurs présences dans le film \n",
    "## - Peu importe s'il tienne le rôle principal. On retient tous les acteurs avec plus de 3 films à leurs actifs."
   ]
  },
  {
   "cell_type": "code",
   "execution_count": 105,
   "metadata": {},
   "outputs": [],
   "source": [
    "#Acteurs\n",
    "#On regroupe les acteurs dans une seule catégories pour simplement noter leurs présences dans le film \n",
    "#peu importe s'il tienne le rôle principal. On retient tous les acteurs avec plus de 3 films à leurs actifs.\n",
    "actor1 = data[['actor_1_name']].values\n",
    "actor2 = data[['actor_2_name']].values\n",
    "actor3 = data[['actor_3_name']].values\n",
    "actors = pd.DataFrame(np.concatenate((actor1, actor2, actor3), axis = 1), index = data.index, columns = ['actor_1_name','actor_2_name','actor_3_name'])\n",
    "cleaned = actors.set_index(actors.index).stack().reset_index(level=1, drop=True).to_frame('actors'); \n",
    "actors = pd.get_dummies(cleaned).groupby(level=0).sum()\n",
    "actors = actors.drop('actors_', 1)\n",
    "actors_index = np.argwhere(sum(actors.values == 1) > 10)[:,0]\n",
    "actors = actors.iloc[:,actors_index]"
   ]
  },
  {
   "cell_type": "code",
   "execution_count": 109,
   "metadata": {},
   "outputs": [],
   "source": [
    "actors.to_csv('actors.csv')"
   ]
  },
  {
   "cell_type": "markdown",
   "metadata": {},
   "source": [
    "## Genres : \n",
    "### On retient tous les genres de films."
   ]
  },
  {
   "cell_type": "code",
   "execution_count": 18,
   "metadata": {},
   "outputs": [],
   "source": [
    "#Genres\n",
    "#On retient tous les genres de films.\n",
    "cleaned = data.set_index(data.index).genres.str.split(r'|', expand=True).stack().reset_index(level=1, drop=True).to_frame('genre'); \n",
    "genres = pd.get_dummies(cleaned).groupby(level=0).sum()"
   ]
  },
  {
   "cell_type": "markdown",
   "metadata": {},
   "source": [
    "## Content rating : \n"
   ]
  },
  {
   "cell_type": "code",
   "execution_count": 19,
   "metadata": {},
   "outputs": [],
   "source": [
    "#Content rating\n",
    "content_rating = pd.get_dummies(data[['content_rating']]).groupby(level=0).sum()\n",
    "content_rating = content_rating.drop('content_rating_', 1)"
   ]
  },
  {
   "cell_type": "code",
   "execution_count": 110,
   "metadata": {},
   "outputs": [],
   "source": [
    "content_rating.to_csv('content_rating.csv')"
   ]
  },
  {
   "cell_type": "markdown",
   "metadata": {},
   "source": [
    "## Country : "
   ]
  },
  {
   "cell_type": "code",
   "execution_count": 20,
   "metadata": {},
   "outputs": [],
   "source": [
    "#country\n",
    "\n",
    "country = pd.get_dummies(data[['country']]).groupby(level=0).sum()\n",
    "country = country.drop('country_', 1)\n",
    "country_index = np.argwhere(sum(country.values == 1) > 10)[:,0]\n",
    "country = country.iloc[:,country_index]"
   ]
  },
  {
   "cell_type": "code",
   "execution_count": 111,
   "metadata": {},
   "outputs": [],
   "source": [
    "country.to_csv('country.csv')"
   ]
  },
  {
   "cell_type": "markdown",
   "metadata": {},
   "source": [
    "## COLOR : "
   ]
  },
  {
   "cell_type": "code",
   "execution_count": 21,
   "metadata": {},
   "outputs": [],
   "source": [
    "#COLOR\n",
    "color = pd.get_dummies(data[['color']]).groupby(level=0).sum()\n",
    "color = color.drop('color_Color', 1)"
   ]
  },
  {
   "cell_type": "markdown",
   "metadata": {},
   "source": [
    "# importer les variables construites et les standarisées"
   ]
  },
  {
   "cell_type": "code",
   "execution_count": 460,
   "metadata": {},
   "outputs": [],
   "source": [
    "import pandas as pd\n",
    "import numpy as np\n",
    "values = np.concatenate((color,\\\n",
    "num_critic_for_reviews,\\\n",
    "director_facebook_likes,\\\n",
    "actor_3_facebook_likes,\\\n",
    "actor_1_facebook_likes,\\\n",
    "num_voted_users,\\\n",
    "num_user_for_reviews,\\\n",
    "actor_2_facebook_likes,\\\n",
    "movie_facebook_likes,\\\n",
    "duration,\\\n",
    "\n",
    "title_year,\\\n",
    "imdb_score,\\\n",
    "director_name_Hot,\\\n",
    "actors,\\\n",
    "genres,\\\n",
    "content_rating,\\\n",
    "country), axis = 1 )\n",
    "index = range(len(movie_title))\n",
    "columns = np.concatenate((color.columns,\\\n",
    "num_critic_for_reviews.columns,\\\n",
    "director_facebook_likes.columns,\\\n",
    "actor_3_facebook_likes.columns,\\\n",
    "actor_1_facebook_likes.columns,\\\n",
    "num_voted_users.columns,\\\n",
    "num_user_for_reviews.columns,\\\n",
    "actor_2_facebook_likes.columns,\\\n",
    "movie_facebook_likes.columns,\\\n",
    "duration.columns,\\\n",
    "\n",
    "title_year.columns,\\\n",
    "imdb_score.columns,\\\n",
    "director_name_Hot.columns,\\\n",
    "actors.columns,\\\n",
    "genres.columns,\\\n",
    "content_rating.columns,\\\n",
    "country.columns), axis = 0 )\n",
    "data_feautures = pd.DataFrame(values, index = index, columns = columns)\n",
    "\n"
   ]
  },
  {
   "cell_type": "markdown",
   "metadata": {},
   "source": [
    "# - Scaler les feautures(numeriques) pour appliquer nos algorithme X in [0 : 1]"
   ]
  },
  {
   "cell_type": "code",
   "execution_count": 508,
   "metadata": {},
   "outputs": [],
   "source": [
    "from sklearn.preprocessing import MinMaxScaler\n",
    "min_max_scaler = MinMaxScaler()\n",
    "data_feautures = min_max_scaler.fit_transform(data_feautures)\n",
    "data_feautures1=pd.DataFrame(data_feautures)"
   ]
  },
  {
   "cell_type": "markdown",
   "metadata": {},
   "source": [
    "# Conclusion \n",
    "## on a fini la préparation de données la on passe à la deuxieme étapes(essayer plusieurs methodes pour faire des recommandations). Nous avons au total 4917 films pour 276 variables."
   ]
  },
  {
   "cell_type": "code",
   "execution_count": null,
   "metadata": {},
   "outputs": [],
   "source": []
  }
 ],
 "metadata": {
  "kernelspec": {
   "display_name": "Python 3",
   "language": "python",
   "name": "python3"
  },
  "language_info": {
   "codemirror_mode": {
    "name": "ipython",
    "version": 3
   },
   "file_extension": ".py",
   "mimetype": "text/x-python",
   "name": "python",
   "nbconvert_exporter": "python",
   "pygments_lexer": "ipython3",
   "version": "3.6.8"
  }
 },
 "nbformat": 4,
 "nbformat_minor": 2
}
